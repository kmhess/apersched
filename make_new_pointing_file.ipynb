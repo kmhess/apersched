{
 "cells": [
  {
   "cell_type": "markdown",
   "id": "8640200b",
   "metadata": {},
   "source": [
    "# Generate new pointing file with a priority list\n",
    "Author: Helga Dénes\n",
    "\n",
    "\n",
    "- this new file works with the 'make_imaging_priority.py' scheduler script\n",
    "- this script can take a table with priority observations and generate a new pointing file where the priority fields are relabeled with 'm'"
   ]
  },
  {
   "cell_type": "code",
   "execution_count": 1,
   "id": "8abaf7e8",
   "metadata": {},
   "outputs": [],
   "source": [
    "from astropy.table import Table\n",
    "from astropy.io import ascii\n",
    "import numpy as np\n"
   ]
  },
  {
   "cell_type": "code",
   "execution_count": 11,
   "id": "53511495",
   "metadata": {},
   "outputs": [
    {
     "data": {
      "text/html": [
       "<i>Table length=8</i>\n",
       "<table id=\"table140339653138656\" class=\"table-striped table-bordered table-condensed\">\n",
       "<thead><tr><th>Field</th><th>NoCD</th><th>LackDishes</th><th>No_2D</th><th>One_2D</th><th>LH_Wide_depth</th></tr></thead>\n",
       "<thead><tr><th>str10</th><th>str4</th><th>str4</th><th>str4</th><th>str4</th><th>str4</th></tr></thead>\n",
       "<tr><td>S0002+4340</td><td>True</td><td>True</td><td>True</td><td>--</td><td>--</td></tr>\n",
       "<tr><td>S1041+5058</td><td>--</td><td>--</td><td>--</td><td>--</td><td>True</td></tr>\n",
       "<tr><td>S1042+5324</td><td>--</td><td>--</td><td>--</td><td>--</td><td>True</td></tr>\n",
       "<tr><td>S1109+6041</td><td>--</td><td>--</td><td>--</td><td>--</td><td>True</td></tr>\n",
       "<tr><td>S1119+5324</td><td>--</td><td>--</td><td>--</td><td>--</td><td>True</td></tr>\n",
       "<tr><td>S1553+5058</td><td>True</td><td>--</td><td>--</td><td>True</td><td>--</td></tr>\n",
       "<tr><td>S2048+3356</td><td>True</td><td>True</td><td>True</td><td>--</td><td>--</td></tr>\n",
       "<tr><td>S2342+5058</td><td>--</td><td>--</td><td>--</td><td>True</td><td>--</td></tr>\n",
       "</table>"
      ],
      "text/plain": [
       "<Table length=8>\n",
       "  Field    NoCD LackDishes No_2D One_2D LH_Wide_depth\n",
       "  str10    str4    str4     str4  str4       str4    \n",
       "---------- ---- ---------- ----- ------ -------------\n",
       "S0002+4340 True       True  True     --            --\n",
       "S1041+5058   --         --    --     --          True\n",
       "S1042+5324   --         --    --     --          True\n",
       "S1109+6041   --         --    --     --          True\n",
       "S1119+5324   --         --    --     --          True\n",
       "S1553+5058 True         --    --   True            --\n",
       "S2048+3356 True       True  True     --            --\n",
       "S2342+5058   --         --    --   True            --"
      ]
     },
     "execution_count": 11,
     "metadata": {},
     "output_type": "execute_result"
    }
   ],
   "source": [
    "# read in pointing file with regular labels\n",
    "\n",
    "pointings=Table.read('ancillary_data/apertif_nov2021.txt',format='ascii.fixed_width')\n",
    "#pointings.keys()\n",
    "\n",
    "# read in file with priority list\n",
    "#reobs=Table.read('reobserve.txt',format='ascii')\n",
    "#reobs=Table.read('reobs_22nov2021.txt',format='ascii')\n",
    "#reobs=Table.read('reobserve_8dec21.txt',format='ascii')\n",
    "#reobs=Table.read('fields_observe_21dec.txt',format='ascii')\n",
    "#reobs=Table.read('apertif_2022jan_all_reobs_v2.txt',format='csv')\n",
    "reobs=Table.read('reobs_3feb2022_v2.txt',format='ascii')\n",
    "\n",
    "reobs"
   ]
  },
  {
   "cell_type": "code",
   "execution_count": 12,
   "id": "971f2b17",
   "metadata": {},
   "outputs": [],
   "source": [
    "# set all labels to 's'\n",
    "\n",
    "pointings['label'] = 's'\n",
    "#pointings['label']"
   ]
  },
  {
   "cell_type": "code",
   "execution_count": 13,
   "id": "1e5815f6",
   "metadata": {
    "scrolled": true
   },
   "outputs": [],
   "source": [
    "# set the label of priority fields to 'm'\n",
    "# after this cell all labels should be 's' and 'm'\n",
    "\n",
    "for i in range(len(reobs['Field'])):\n",
    "    pointings['label'][np.where(pointings['name'] == reobs['Field'][i])] = 'm'\n",
    "\n",
    "# for i in range(len(reobs['name'])):\n",
    "#     pointings['label'][np.where(pointings['name'] == reobs['name'][i])] = 'm'\n",
    "    \n",
    "# pointings['label'][np.where(pointings['name'] == 'S0011+3130')] = 'm'   \n",
    "# pointings['label'][np.where(pointings['name'] == 'S0203+4340')] = 'm'    \n",
    "# pointings['label'][np.where(pointings['name'] == 'S1119+5324')] = 'm'    \n",
    "# pointings['label'][np.where(pointings['name'] == 'S0303+3622')] = 'm'    \n",
    "# pointings['label'][np.where(pointings['name'] == 'S0300+3848')] = 'm'    \n",
    "\n",
    "# pointings['label'][np.where(pointings['name'] == 'S2117+2904')] = 'm'  \n",
    "# pointings['label'][np.where(pointings['name'] == 'S0149+3848')] = 'm'\n",
    "# pointings['label'][np.where(pointings['name'] == 'S1041+5815')] = 'm'\n",
    "# pointings['label'][np.where(pointings['name'] == 'S2332+4340')] = 'm'\n",
    "\n",
    "# pointings['label'][np.where(pointings['name'] == 'M1259+2638')] = 'm'\n",
    "# pointings['label'][np.where(pointings['name'] == 'M1301+3356')] = 'm'\n",
    "# pointings['label'][np.where(pointings['name'] == 'M1248+3356')] = 'm'  # this has sub optimal C&D coverage\n",
    "# pointings['label'][np.where(pointings['name'] == 'M1243+3130')] = 'm'  # maybe\n",
    "\n",
    "# pointings['label'][np.where(pointings['name'] == 'M2214+3130')] = 'm' #3 IHV\n",
    "\n",
    "#pointings['label'][np.where(pointings['name'] == 'S0103+3130')] = 'm'\n"
   ]
  },
  {
   "cell_type": "code",
   "execution_count": 14,
   "id": "c0d8c9a4",
   "metadata": {},
   "outputs": [],
   "source": [
    "# write a pointing file with the new labels\n",
    "\n",
    "pointings.write('ancillary_data/apertif_nov2021_CD.txt', format='ascii.fixed_width', overwrite=True)  "
   ]
  },
  {
   "cell_type": "code",
   "execution_count": 15,
   "id": "83e5f49f",
   "metadata": {},
   "outputs": [],
   "source": [
    "# write a pointing file that only has the priority fields\n",
    "\n",
    "pointings2 = pointings[pointings['label'] == 'm']\n",
    "pointings2.write('ancillary_data/apertif_nov2021_CD_v2.txt', format='ascii.fixed_width', overwrite=True)  "
   ]
  },
  {
   "cell_type": "code",
   "execution_count": null,
   "id": "c4b959cc",
   "metadata": {},
   "outputs": [],
   "source": [
    "    \n",
    "    "
   ]
  },
  {
   "cell_type": "code",
   "execution_count": null,
   "id": "c55e6765",
   "metadata": {},
   "outputs": [],
   "source": []
  }
 ],
 "metadata": {
  "kernelspec": {
   "display_name": "Python 3",
   "language": "python",
   "name": "python3"
  },
  "language_info": {
   "codemirror_mode": {
    "name": "ipython",
    "version": 3
   },
   "file_extension": ".py",
   "mimetype": "text/x-python",
   "name": "python",
   "nbconvert_exporter": "python",
   "pygments_lexer": "ipython3",
   "version": "3.8.8"
  }
 },
 "nbformat": 4,
 "nbformat_minor": 5
}
